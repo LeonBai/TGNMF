{
 "cells": [
  {
   "cell_type": "markdown",
   "metadata": {},
   "source": [
    "# Prerequisite\n",
    "This notebook requires the following package to execute fully :\n",
    "\n",
    "* beta-ntf (https://code.google.com/archive/p/beta-ntf/)\n",
    "* groupNMF (https://github.com/rserizel/groupNMF)\n",
    "        \n",
    "Note: group-NMF is not required if you just load the pre-computed dictionnaries\n"
   ]
  },
  {
   "cell_type": "markdown",
   "metadata": {},
   "source": [
    "# General imports"
   ]
  },
  {
   "cell_type": "code",
   "execution_count": 1,
   "metadata": {
    "collapsed": false
   },
   "outputs": [
    {
     "name": "stderr",
     "output_type": "stream",
     "text": [
      "/home/rserizel/anaconda2/lib/python2.7/site-packages/sklearn/cross_validation.py:44: DeprecationWarning: This module was deprecated in version 0.18 in favor of the model_selection module into which all the refactored classes and functions are moved. Also note that the interface of the new CV iterators are different from that of this module. This module will be removed in 0.20.\n",
      "  \"This module will be removed in 0.20.\", DeprecationWarning)\n"
     ]
    }
   ],
   "source": [
    "%matplotlib inline\n",
    "import numpy as np\n",
    "import matplotlib.pyplot as plt\n",
    "\n",
    "from sklearn.cross_validation import train_test_split\n",
    "from sklearn.datasets import load_digits\n",
    "from sklearn.decomposition import NMF\n",
    "from sklearn.linear_model import LogisticRegression\n",
    "from sklearn.metrics import classification_report, accuracy_score\n",
    "from sklearn.preprocessing import LabelEncoder, scale\n",
    "\n",
    "from beta_ntf import BetaNTF\n",
    "from tnmf import SupervisedDL\n"
   ]
  },
  {
   "cell_type": "markdown",
   "metadata": {},
   "source": [
    "# Loading data"
   ]
  },
  {
   "cell_type": "markdown",
   "metadata": {},
   "source": [
    "We start by loading the scikit learn toy digits dataset and\n",
    "creating one train-test split of equal size. "
   ]
  },
  {
   "cell_type": "code",
   "execution_count": 2,
   "metadata": {
    "collapsed": false
   },
   "outputs": [],
   "source": [
    "digits = load_digits()\n",
    "X, y = digits.data, digits.target\n",
    "\n",
    "X_train, X_test, y_train, y_test = train_test_split(X, y, test_size=.5, random_state=123)"
   ]
  },
  {
   "cell_type": "markdown",
   "metadata": {},
   "source": [
    "# Feature learning with unsupervised NMF"
   ]
  },
  {
   "cell_type": "markdown",
   "metadata": {},
   "source": [
    "\n",
    "Before introducing the supervised model lets start by presenting the unsupervised equivalent: an NMF followed by a logistic regression.\n",
    "We fit a nonnegative matrix factorizationon the training images and keep the projections for classification\n",
    "\n"
   ]
  },
  {
   "cell_type": "code",
   "execution_count": 3,
   "metadata": {
    "collapsed": false
   },
   "outputs": [
    {
     "name": "stdout",
     "output_type": "stream",
     "text": [
      "Fitting NTF model with 100 iterations....\n",
      "Done.\n",
      "Fitting NTF model with 100 iterations....\n",
      "Done.\n"
     ]
    }
   ],
   "source": [
    "nmf = BetaNTF(data_shape=X_train.shape, n_components=10, \n",
    "                                   n_iter=100, verbose=False, beta=2)\n",
    "nmf.fit(X_train)\n",
    "W_uns = nmf.factors_[1]\n",
    "H_train = nmf.factors_[0]\n",
    "\n",
    "\n",
    "nmf = BetaNTF(data_shape=X_test.shape, n_components=10, \n",
    "                                   n_iter=100, verbose=False, beta=2)\n",
    "nmf.fixed_factors = [1]\n",
    "nmf.factors_[1]  = W_uns\n",
    "nmf.fit(X_test)\n",
    "H_test = nmf.factors_[0]"
   ]
  },
  {
   "cell_type": "code",
   "execution_count": 4,
   "metadata": {
    "collapsed": false
   },
   "outputs": [
    {
     "name": "stdout",
     "output_type": "stream",
     "text": [
      " Accuracy score for NMF with logisitc regression : 0.91 \n",
      "\n",
      "             precision    recall  f1-score   support\n",
      "\n",
      "          0       0.97      0.98      0.97        94\n",
      "          1       0.88      0.80      0.83        88\n",
      "          2       0.95      0.97      0.96        93\n",
      "          3       0.86      0.85      0.86        80\n",
      "          4       0.93      0.97      0.95       101\n",
      "          5       0.96      0.94      0.95        97\n",
      "          6       0.97      0.97      0.97        93\n",
      "          7       0.96      0.98      0.97        90\n",
      "          8       0.83      0.81      0.82        78\n",
      "          9       0.81      0.85      0.83        85\n",
      "\n",
      "avg / total       0.91      0.91      0.91       899\n",
      "\n"
     ]
    }
   ],
   "source": [
    "\n",
    "clf = LogisticRegression(C=10,  multi_class='multinomial', solver='lbfgs')\n",
    "clf.fit(H_train,y_train)\n",
    "y_pred = clf.predict(H_test)\n",
    "\n",
    "print(\" Accuracy score for NMF with logisitc regression : %0.2f \\n\"%accuracy_score(y_test,y_pred))\n",
    "print(classification_report(y_test,y_pred))"
   ]
  },
  {
   "cell_type": "markdown",
   "metadata": {},
   "source": [
    "# Supervised feature learning with TD-NMF"
   ]
  },
  {
   "cell_type": "markdown",
   "metadata": {},
   "source": [
    "Before applying the supverised model we need to make sure the labels are integers in between 0 and (n_labels-1)"
   ]
  },
  {
   "cell_type": "code",
   "execution_count": 5,
   "metadata": {
    "collapsed": false
   },
   "outputs": [],
   "source": [
    "lb  = LabelEncoder()\n",
    "y_train = lb.fit_transform(y_train)\n",
    "y_test = lb.transform(y_test)"
   ]
  },
  {
   "cell_type": "markdown",
   "metadata": {},
   "source": [
    "For the digits toy problem, we use the model in its most basic formulation: without group similarity constraints.\n",
    "Once the model is initialized, it is used similarly to scikit-learn classifier with the fit and predict functions. \n",
    "\n",
    "The most important parameters to tune are: \n",
    "\n",
    "_ \"n_components\" -> the size of the dictionary.\n",
    "\n",
    "_ \"mu\" -> to constrain the weights of the classifier and prevent overfitting (equivalent of the \"C\" parameter in scikit-learn models). \n",
    "\n",
    "_ \"rho\" -> to control the initial gradient step. Should be modified if the cost increases or decreases to slowly.\n",
    "  \n",
    "    \n",
    "    "
   ]
  },
  {
   "cell_type": "code",
   "execution_count": 6,
   "metadata": {
    "collapsed": false,
    "scrolled": true
   },
   "outputs": [
    {
     "name": "stderr",
     "output_type": "stream",
     "text": [
      "/home/rserizel/anaconda2/lib/python2.7/site-packages/spams.py:424: FutureWarning: comparison to `None` will result in an elementwise object comparison in the future.\n",
      "  if D == None:\n"
     ]
    },
    {
     "name": "stdout",
     "output_type": "stream",
     "text": [
      " Accuracy score for NMF with logisitc regression : 0.94 \n",
      "\n",
      "             precision    recall  f1-score   support\n",
      "\n",
      "          0       0.96      0.97      0.96        94\n",
      "          1       0.89      0.97      0.93        88\n",
      "          2       0.99      0.86      0.92        93\n",
      "          3       0.92      1.00      0.96        80\n",
      "          4       0.98      0.98      0.98       101\n",
      "          5       0.99      0.93      0.96        97\n",
      "          6       0.97      0.98      0.97        93\n",
      "          7       1.00      0.99      0.99        90\n",
      "          8       0.84      0.87      0.86        78\n",
      "          9       0.89      0.89      0.89        85\n",
      "\n",
      "avg / total       0.95      0.94      0.94       899\n",
      "\n"
     ]
    }
   ],
   "source": [
    "\n",
    "tdnmf = SupervisedDL(data=X_train, n_components=10, n_labels=10, pos=True, n_iter=10,\n",
    "                     batch_size=1, agreg=1,rho =0.001)\n",
    "\n",
    "tdnmf.fit(X_train, y_train, X_test, y_test)\n",
    "y_pred = tdnmf.predict(X_test)\n",
    "W_sup = tdnmf.D\n",
    "\n",
    "\n",
    "print(\" Accuracy score for NMF with logisitc regression : %0.2f \\n\"%accuracy_score(y_test,y_pred))\n",
    "print(classification_report(y_test,y_pred))"
   ]
  },
  {
   "cell_type": "markdown",
   "metadata": {},
   "source": [
    "# Introducing TG-NMF \n"
   ]
  },
  {
   "cell_type": "code",
   "execution_count": 5,
   "metadata": {
    "collapsed": false,
    "scrolled": false
   },
   "outputs": [
    {
     "data": {
      "image/png": "[encoded data removed]",
      "text/plain": [
       "<matplotlib.figure.Figure at 0x7f3e2f3e1750>"
      ]
     },
     "metadata": {},
     "output_type": "display_data"
    }
   ],
   "source": [
    "digits = load_digits()\n",
    "X, y = digits.data, digits.target\n",
    "\n",
    "L = len(X)/4\n",
    "X = X[:4*L,:]\n",
    "y = y[:4*L] \n",
    "sessions = np.zeros(y.shape)\n",
    "\n",
    "for i in range(4):\n",
    "    X[i*L:(i+1)*L,i*16:(i+1)*16] += (3+2*np.abs(np.random.randn(L,16)))\n",
    "    sessions[i*L:(i+1)*L] += i\n",
    "X_train, X_test, y_train, y_test, sessions_train, sessions_test = train_test_split(X, y, sessions, test_size=.5, random_state=123)\n",
    "\n",
    "fig, ax = plt.subplots(3, 5, subplot_kw=dict(xticks=[], yticks=[]))\n",
    "for j in range(5):\n",
    "    for i in range(3):\n",
    "        im = ax[i, j].imshow(X_train[i*3 +j,:].reshape((8, 8)),\n",
    "                             cmap=plt.cm.binary, interpolation='nearest') "
   ]
  },
  {
   "cell_type": "markdown",
   "metadata": {},
   "source": [
    "## Pretrain dictionnary with GNMF"
   ]
  },
  {
   "cell_type": "code",
   "execution_count": 18,
   "metadata": {
    "collapsed": false,
    "scrolled": true
   },
   "outputs": [
    {
     "name": "stdout",
     "output_type": "stream",
     "text": [
      "Group NMF with class specific rules for beta-divergence\n",
      "Compute contraint distances at each segment update\n",
      "Reordering data...\n",
      "Fitting NMF model with 100 iterations....\n",
      "Total duration=2573.0ms\n"
     ]
    }
   ],
   "source": [
    "from beta_nmf_class import ClassBetaNMF\n",
    "nmf = ClassBetaNMF(\n",
    "    X_train, y_train, sessions_train, n_components=(1, 1, 1), beta=2, NMF_updates='groupNMF',\n",
    "    n_iter=100, normalize=True, verbose=0)\n",
    "nmf.fit(X_train, y_train, sessions_train)\n",
    "D = nmf.select([0, 1])\n",
    "lbl = nmf.iters['cls'][:]"
   ]
  },
  {
   "cell_type": "markdown",
   "metadata": {},
   "source": [
    "## Alternatively load pre-computed dictionnaries"
   ]
  },
  {
   "cell_type": "code",
   "execution_count": 31,
   "metadata": {
    "collapsed": false
   },
   "outputs": [],
   "source": [
    "# ajouter un wget ici pour aller chercher les données\n",
    "D = np.load('gnmf_dic.npy')\n",
    "lbl = np.load('gnmf_lbl.npy')"
   ]
  },
  {
   "cell_type": "code",
   "execution_count": 32,
   "metadata": {
    "collapsed": false
   },
   "outputs": [
    {
     "name": "stdout",
     "output_type": "stream",
     "text": [
      "Fitting NTF model with 100 iterations....\n",
      "Done.\n",
      "Fitting NTF model with 100 iterations....\n",
      "Done.\n",
      " Accuracy score for NMF with logisitc regression : 0.84 \n",
      "\n",
      "             precision    recall  f1-score   support\n",
      "\n",
      "          0       0.98      0.89      0.93        94\n",
      "          1       0.76      0.74      0.75        90\n",
      "          2       0.82      0.87      0.84        89\n",
      "          3       0.85      0.80      0.82        85\n",
      "          4       0.91      0.87      0.89       104\n",
      "          5       0.90      0.89      0.89        97\n",
      "          6       0.89      0.94      0.91        84\n",
      "          7       0.84      0.88      0.86        94\n",
      "          8       0.66      0.68      0.67        74\n",
      "          9       0.77      0.80      0.79        87\n",
      "\n",
      "avg / total       0.84      0.84      0.84       898\n",
      "\n"
     ]
    }
   ],
   "source": [
    "ntf = BetaNTF(data_shape=X_train.shape, n_components=10, \n",
    "                                   n_iter=100, verbose=False, beta=2)\n",
    "ntf.fit(X_train)\n",
    "W_uns = ntf.factors_[1]\n",
    "H_train = ntf.factors_[0]\n",
    "\n",
    "\n",
    "ntf = BetaNTF(data_shape=X_test.shape, n_components=10, \n",
    "                                   n_iter=100, verbose=False, beta=2)\n",
    "ntf.fixed_factors = [1]\n",
    "ntf.factors_[1]  = W_uns\n",
    "ntf.fit(X_test)\n",
    "H_test = ntf.factors_[0]\n",
    "\n",
    "clf = LogisticRegression(C=10,  multi_class='multinomial', solver='lbfgs')\n",
    "clf.fit(H_train,y_train)\n",
    "y_pred = clf.predict(H_test)\n",
    "\n",
    "print(\" Accuracy score for NMF with logisitc regression : %0.2f \\n\"%accuracy_score(y_test,y_pred))\n",
    "print(classification_report(y_test,y_pred))"
   ]
  },
  {
   "cell_type": "code",
   "execution_count": 33,
   "metadata": {
    "collapsed": false
   },
   "outputs": [
    {
     "name": "stdout",
     "output_type": "stream",
     "text": [
      " Accuracy score for NMF with logisitc regression : 0.95 \n",
      "\n",
      "             precision    recall  f1-score   support\n",
      "\n",
      "          0       1.00      0.99      0.99        94\n",
      "          1       0.94      0.97      0.95        90\n",
      "          2       0.96      0.98      0.97        89\n",
      "          3       0.95      0.89      0.92        85\n",
      "          4       0.99      0.99      0.99       104\n",
      "          5       0.97      0.95      0.96        97\n",
      "          6       0.97      0.99      0.98        84\n",
      "          7       0.96      0.98      0.97        94\n",
      "          8       0.94      0.82      0.88        74\n",
      "          9       0.86      0.94      0.90        87\n",
      "\n",
      "avg / total       0.95      0.95      0.95       898\n",
      "\n"
     ]
    }
   ],
   "source": [
    "from tgnmf import SupervisedDL\n",
    "tdnmf = SupervisedDL(data=X_train, n_labels=10, pos=True, n_iter=2,\n",
    "                     batch_size=1, agreg=1,rho =0.00001, lbl=lbl,\n",
    "                     max_iter_init=5, max_iter_fin=5,\n",
    "                     ses_train=sessions, sub_dict_size=2,  k_cls=1, \n",
    "                     k_ses=1,  nu1=0.00001, nu2=0.000001)\n",
    "tdnmf.D = D\n",
    "tdnmf.fit(X_train, y_train, X_test, y_test)\n",
    "y_pred = tdnmf.predict(X_test)\n",
    "W_sup = tdnmf.D\n",
    "\n",
    "\n",
    "print(\" Accuracy score for NMF with logisitc regression : %0.2f \\n\"%accuracy_score(y_test,y_pred))\n",
    "print(classification_report(y_test,y_pred))"
   ]
  },
  {
   "cell_type": "code",
   "execution_count": null,
   "metadata": {
    "collapsed": true
   },
   "outputs": [],
   "source": []
  }
 ],
 "metadata": {
  "anaconda-cloud": {},
  "kernelspec": {
   "display_name": "Python [conda root]",
   "language": "python",
   "name": "conda-root-py"
  },
  "language_info": {
   "codemirror_mode": {
    "name": "ipython",
    "version": 2
   },
   "file_extension": ".py",
   "mimetype": "text/x-python",
   "name": "python",
   "nbconvert_exporter": "python",
   "pygments_lexer": "ipython2",
   "version": "2.7.12"
  }
 },
 "nbformat": 4,
 "nbformat_minor": 1
}
